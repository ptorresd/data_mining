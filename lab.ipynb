{
 "cells": [
  {
   "cell_type": "code",
   "execution_count": 78,
   "metadata": {},
   "outputs": [
    {
     "name": "stdout",
     "output_type": "stream",
     "text": [
      "listo\n"
     ]
    }
   ],
   "source": [
    "## RESPUESTA PREGUNTA 2.1\n",
    "\n",
    "from sklearn.neural_network import MLPClassifier\n",
    "from sklearn.svm import SVC\n",
    "red1 = MLPClassifier(solver='lbfgs', alpha=1e-5, hidden_layer_sizes=(40,40,20), random_state=1, activation= \"tanh\")\n",
    "redadam = MLPClassifier(max_iter=500,solver='adam', alpha=1e-5, hidden_layer_sizes=(40,40,20), random_state=1, activation= \"tanh\")\n",
    "redsgd = MLPClassifier(max_iter=500,solver='sgd', alpha=1e-5, hidden_layer_sizes=(40,40,20), random_state=1, activation= \"tanh\")\n",
    "redsgd2 = MLPClassifier(max_iter=500,solver='sgd', alpha=1e-5, hidden_layer_sizes=(50,20,50), random_state=1, activation= \"tanh\")\n",
    "redsgd3 = MLPClassifier(max_iter=500,solver='sgd', alpha=1e-5, hidden_layer_sizes=(45,60,10), random_state=1, activation= \"tanh\")\n",
    "redsgd4 = MLPClassifier(max_iter=500,solver='sgd', alpha=1e-5, hidden_layer_sizes=(70,50,15), random_state=1, activation= \"tanh\")\n",
    "\n",
    "redrelu = MLPClassifier(max_iter=500,solver='sgd', alpha=1e-5, hidden_layer_sizes=(40,20,10), random_state=1, activation= \"relu\")\n",
    "\n",
    "\n",
    "svc = SVC()\n",
    "\n",
    "# .... COMPLETE ACA\n",
    "from sklearn.metrics import accuracy_score\n",
    "from sklearn.metrics import classification_report\n",
    "\n",
    "print('listo')"
   ]
  },
  {
   "cell_type": "code",
   "execution_count": 43,
   "metadata": {},
   "outputs": [
    {
     "name": "stdout",
     "output_type": "stream",
     "text": [
      "[ 1. -1. -1. ...  1.  1. -1.]\n",
      "asd\n"
     ]
    }
   ],
   "source": [
    "import numpy as np\n",
    "X = np.load('picks.npy')\n",
    "y = np.load('winners.npy')\n",
    "print(y)\n",
    "print('asd')"
   ]
  },
  {
   "cell_type": "code",
   "execution_count": 44,
   "metadata": {},
   "outputs": [],
   "source": [
    "### RESPUESTA A PREGUNTA 3.1\n",
    "# ...\n",
    "# Recuerde usar las variables X_train, X_test, y_train, y_test\n",
    "\n",
    "from sklearn.model_selection import train_test_split\n",
    "\n",
    "X_train, X_test, y_train, y_test = train_test_split(X, y, test_size = .2, random_state=39, stratify = y)\n",
    "\n",
    "arreglo = [X_train, X_test, y_train, y_test]\n",
    "\n",
    "def train_and_print(red, X_train, X_test, y_train, y_test):\n",
    "    red.fit(X_train, y_train)\n",
    "    y_pred = red.predict(X_test)\n",
    "    print(\"Accuracy = \", accuracy_score(y_test, y_pred))\n",
    "    print(classification_report(y_test, y_pred))"
   ]
  },
  {
   "cell_type": "code",
   "execution_count": 45,
   "metadata": {},
   "outputs": [
    {
     "name": "stdout",
     "output_type": "stream",
     "text": [
      "Accuracy =  0.5355\n",
      "             precision    recall  f1-score   support\n",
      "\n",
      "       -1.0       0.52      0.52      0.52      4811\n",
      "        1.0       0.55      0.55      0.55      5189\n",
      "\n",
      "avg / total       0.54      0.54      0.54     10000\n",
      "\n"
     ]
    }
   ],
   "source": [
    "train_and_print(redadam, X_train, X_test, y_train, y_test)"
   ]
  },
  {
   "cell_type": "code",
   "execution_count": 46,
   "metadata": {},
   "outputs": [
    {
     "name": "stdout",
     "output_type": "stream",
     "text": [
      "Accuracy =  0.5407\n",
      "             precision    recall  f1-score   support\n",
      "\n",
      "       -1.0       0.52      0.51      0.52      4811\n",
      "        1.0       0.56      0.57      0.56      5189\n",
      "\n",
      "avg / total       0.54      0.54      0.54     10000\n",
      "\n"
     ]
    }
   ],
   "source": [
    "train_and_print(red1, X_train, X_test, y_train, y_test)"
   ]
  },
  {
   "cell_type": "code",
   "execution_count": 49,
   "metadata": {},
   "outputs": [
    {
     "name": "stdout",
     "output_type": "stream",
     "text": [
      "Accuracy =  0.5945\n",
      "             precision    recall  f1-score   support\n",
      "\n",
      "       -1.0       0.58      0.54      0.56      4811\n",
      "        1.0       0.60      0.64      0.62      5189\n",
      "\n",
      "avg / total       0.59      0.59      0.59     10000\n",
      "\n"
     ]
    }
   ],
   "source": [
    "train_and_print(redsgd, X_train, X_test, y_train, y_test)"
   ]
  },
  {
   "cell_type": "code",
   "execution_count": 51,
   "metadata": {},
   "outputs": [
    {
     "name": "stdout",
     "output_type": "stream",
     "text": [
      "Accuracy =  0.5991\n",
      "             precision    recall  f1-score   support\n",
      "\n",
      "       -1.0       0.59      0.54      0.57      4811\n",
      "        1.0       0.61      0.65      0.63      5189\n",
      "\n",
      "avg / total       0.60      0.60      0.60     10000\n",
      "\n"
     ]
    }
   ],
   "source": [
    "train_and_print(redsgd2, X_train, X_test, y_train, y_test)"
   ]
  },
  {
   "cell_type": "code",
   "execution_count": 64,
   "metadata": {},
   "outputs": [
    {
     "name": "stdout",
     "output_type": "stream",
     "text": [
      "Accuracy =  0.6003\n",
      "             precision    recall  f1-score   support\n",
      "\n",
      "       -1.0       0.59      0.55      0.57      4811\n",
      "        1.0       0.61      0.65      0.63      5189\n",
      "\n",
      "avg / total       0.60      0.60      0.60     10000\n",
      "\n"
     ]
    }
   ],
   "source": [
    "train_and_print(redsgd3, X_train, X_test, y_train, y_test)"
   ]
  },
  {
   "cell_type": "code",
   "execution_count": 68,
   "metadata": {},
   "outputs": [
    {
     "name": "stdout",
     "output_type": "stream",
     "text": [
      "Accuracy =  0.5969\n",
      "             precision    recall  f1-score   support\n",
      "\n",
      "       -1.0       0.59      0.54      0.56      4811\n",
      "        1.0       0.60      0.65      0.63      5189\n",
      "\n",
      "avg / total       0.60      0.60      0.60     10000\n",
      "\n"
     ]
    }
   ],
   "source": [
    "train_and_print(redsgd4, X_train, X_test, y_train, y_test)"
   ]
  },
  {
   "cell_type": "code",
   "execution_count": 79,
   "metadata": {},
   "outputs": [
    {
     "name": "stdout",
     "output_type": "stream",
     "text": [
      "Accuracy =  0.5636\n",
      "             precision    recall  f1-score   support\n",
      "\n",
      "       -1.0       0.55      0.55      0.55      4811\n",
      "        1.0       0.58      0.58      0.58      5189\n",
      "\n",
      "avg / total       0.56      0.56      0.56     10000\n",
      "\n"
     ]
    },
    {
     "name": "stderr",
     "output_type": "stream",
     "text": [
      "/home/sven/anaconda3/lib/python3.6/site-packages/sklearn/neural_network/multilayer_perceptron.py:564: ConvergenceWarning: Stochastic Optimizer: Maximum iterations (500) reached and the optimization hasn't converged yet.\n",
      "  % self.max_iter, ConvergenceWarning)\n"
     ]
    }
   ],
   "source": [
    "train_and_print(redrelu, X_train, X_test, y_train, y_test)"
   ]
  },
  {
   "cell_type": "code",
   "execution_count": null,
   "metadata": {},
   "outputs": [],
   "source": []
  }
 ],
 "metadata": {
  "anaconda-cloud": {},
  "kernelspec": {
   "display_name": "Python 3",
   "language": "python",
   "name": "python3"
  },
  "language_info": {
   "codemirror_mode": {
    "name": "ipython",
    "version": 3
   },
   "file_extension": ".py",
   "mimetype": "text/x-python",
   "name": "python",
   "nbconvert_exporter": "python",
   "pygments_lexer": "ipython3",
   "version": "3.6.4"
  }
 },
 "nbformat": 4,
 "nbformat_minor": 1
}
