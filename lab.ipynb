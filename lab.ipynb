{
 "cells": [
  {
   "cell_type": "code",
   "execution_count": 1,
   "metadata": {},
   "outputs": [
    {
     "name": "stdout",
     "output_type": "stream",
     "text": [
      "listo\n"
     ]
    }
   ],
   "source": [
    "## RESPUESTA PREGUNTA 2.1\n",
    "\n",
    "from sklearn.neural_network import MLPClassifier\n",
    "knn = MLPClassifier(solver='lbfgs', alpha=1e-5, hidden_layer_sizes=(117, 50, 10), random_state=1)\n",
    "\n",
    "\n",
    "# .... COMPLETE ACA\n",
    "from sklearn.metrics import accuracy_score\n",
    "from sklearn.metrics import classification_report\n",
    "\n",
    "print('listo')"
   ]
  },
  {
   "cell_type": "code",
   "execution_count": 14,
   "metadata": {},
   "outputs": [
    {
     "name": "stdout",
     "output_type": "stream",
     "text": [
      "[ 1. -1. -1. ...  1.  1. -1.]\n",
      "asd\n"
     ]
    }
   ],
   "source": [
    "import numpy as np\n",
    "X = np.load('picks.npy')\n",
    "y = np.load('winners.npy')\n",
    "print(y)\n",
    "print('asd')"
   ]
  },
  {
   "cell_type": "code",
   "execution_count": 16,
   "metadata": {},
   "outputs": [
    {
     "name": "stdout",
     "output_type": "stream",
     "text": [
      "Accuracy =  0.5314\n",
      "             precision    recall  f1-score   support\n",
      "\n",
      "       -1.0       0.51      0.50      0.51      7217\n",
      "        1.0       0.55      0.56      0.55      7783\n",
      "\n",
      "avg / total       0.53      0.53      0.53     15000\n",
      "\n"
     ]
    }
   ],
   "source": [
    "### RESPUESTA A PREGUNTA 3.1\n",
    "# ...\n",
    "# Recuerde usar las variables X_train, X_test, y_train, y_test\n",
    "\n",
    "from sklearn.model_selection import train_test_split\n",
    "\n",
    "X_train, X_test, y_train, y_test = train_test_split(X, y, test_size = .3, random_state=20, stratify = y)\n",
    "\n",
    "knn.fit(X_train, y_train)\n",
    "y_pred = knn.predict(X_test)\n",
    "\n",
    "print(\"Accuracy = \", accuracy_score(y_test, y_pred))\n",
    "\n",
    "print(classification_report(y_test, y_pred))"
   ]
  },
  {
   "cell_type": "code",
   "execution_count": null,
   "metadata": {},
   "outputs": [],
   "source": [
    "## EJECUTAR ESTE BLOQUE\n",
    "from sklearn.model_selection import cross_val_score\n",
    "from sklearn import metrics, cross_validation\n",
    "\n",
    "print(\"\\nPREDICTIONS******\")\n",
    "predictions = cross_validation.cross_val_predict(knn, X, y, cv=5)  ## cv es la cantidad de folds\n",
    "print(\"Accuracy:\", metrics.accuracy_score(y_test, predictions))\n",
    "print(\"Metricas:\")\n",
    "print(metrics.classification_report(y_test, predictions))"
   ]
  }
 ],
 "metadata": {
  "anaconda-cloud": {},
  "kernelspec": {
   "display_name": "Python 3",
   "language": "python",
   "name": "python3"
  },
  "language_info": {
   "codemirror_mode": {
    "name": "ipython",
    "version": 3
   },
   "file_extension": ".py",
   "mimetype": "text/x-python",
   "name": "python",
   "nbconvert_exporter": "python",
   "pygments_lexer": "ipython3",
   "version": "3.6.4"
  }
 },
 "nbformat": 4,
 "nbformat_minor": 1
}
